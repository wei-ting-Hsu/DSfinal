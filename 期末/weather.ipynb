{
 "cells": [
  {
   "cell_type": "code",
   "execution_count": 5,
   "metadata": {},
   "outputs": [],
   "source": [
    "import requests\n",
    "\n",
    "def get_current_weather(api_key, city):\n",
    "    url = f\"http://api.openweathermap.org/data/2.5/weather?q={city}&appid={api_key}&units=metric\"\n",
    "    response = requests.get(url)\n",
    "    data = response.json()\n",
    "    return data\n",
    "\n",
    "api_key = \"b55132e7d0d008aa945b18e4cd2f5a02\"\n",
    "city = \"London\"\n",
    "weather_data = get_current_weather(api_key, city)\n",
    "\n",
    "# 检查响应是否包含主要的天气数据\n",
    "if \"main\" in weather_data:\n",
    "    print(\"Current temperature:\", weather_data[\"main\"][\"temp\"], \"°C\")\n",
    "    print(\"Humidity:\", weather_data[\"main\"][\"humidity\"], \"%\")\n",
    "\n",
    "# 检查响应是否包含天气情况描述\n",
    "if \"weather\" in weather_data and len(weather_data[\"weather\"]) > 0:\n",
    "    print(\"Weather condition:\", weather_data[\"weather\"][0][\"description\"])"
   ]
  },
  {
   "cell_type": "code",
   "execution_count": 4,
   "metadata": {},
   "outputs": [
    {
     "name": "stdout",
     "output_type": "stream",
     "text": [
      "Weather: scattered clouds\n",
      "Temperature: 27.8 °C\n",
      "Humidity: 31 %\n",
      "City: Xianeibu\n"
     ]
    }
   ],
   "source": [
    "import requests\n",
    "\n",
    "def kelvin_to_celsius(kelvin):\n",
    "    return kelvin - 273.15\n",
    "\n",
    "def get_weather_by_coordinates(api_key, lat, lon):\n",
    "    url = f\"https://api.openweathermap.org/data/2.5/weather?lat={lat}&lon={lon}&appid={api_key}\"\n",
    "    response = requests.get(url)\n",
    "    data = response.json()\n",
    "    return data\n",
    "\n",
    "# 替换为你的 API Key\n",
    "api_key = \"b55132e7d0d008aa945b18e4cd2f5a02\"\n",
    "\n",
    "# 替换为你希望获取天气数据的地点的经纬度坐标\n",
    "latitude = 25.03746\n",
    "longitude = 121.564558\n",
    "\n",
    "# 获取天气数据\n",
    "weather_data = get_weather_by_coordinates(api_key, latitude, longitude)\n",
    "\n",
    "temperature_celsius = round(kelvin_to_celsius(weather_data[\"main\"][\"temp\"]),1)\n",
    "\n",
    "# 打印天气信息\n",
    "print(\"Weather:\", weather_data[\"weather\"][0][\"description\"])\n",
    "print(\"Temperature:\", temperature_celsius, \"°C\")\n",
    "print(\"Humidity:\", weather_data[\"main\"][\"humidity\"], \"%\")\n",
    "print(\"City:\",weather_data[\"name\"])"
   ]
  },
  {
   "cell_type": "code",
   "execution_count": 1,
   "metadata": {},
   "outputs": [
    {
     "name": "stdout",
     "output_type": "stream",
     "text": [
      "{\n",
      "    \"coord\": {\n",
      "        \"lon\": 120.6844,\n",
      "        \"lat\": 24.144\n",
      "    },\n",
      "    \"weather\": [\n",
      "        {\n",
      "            \"id\": 802,\n",
      "            \"main\": \"Clouds\",\n",
      "            \"description\": \"scattered clouds\",\n",
      "            \"icon\": \"03d\"\n",
      "        }\n",
      "    ],\n",
      "    \"base\": \"stations\",\n",
      "    \"main\": {\n",
      "        \"temp\": 301.46,\n",
      "        \"feels_like\": 303.32,\n",
      "        \"temp_min\": 298.73,\n",
      "        \"temp_max\": 301.54,\n",
      "        \"pressure\": 1006,\n",
      "        \"humidity\": 62\n",
      "    },\n",
      "    \"visibility\": 10000,\n",
      "    \"wind\": {\n",
      "        \"speed\": 4.63,\n",
      "        \"deg\": 350\n",
      "    },\n",
      "    \"clouds\": {\n",
      "        \"all\": 40\n",
      "    },\n",
      "    \"dt\": 1715330800,\n",
      "    \"sys\": {\n",
      "        \"type\": 2,\n",
      "        \"id\": 86663,\n",
      "        \"country\": \"TW\",\n",
      "        \"sunrise\": 1715289422,\n",
      "        \"sunset\": 1715337021\n",
      "    },\n",
      "    \"timezone\": 28800,\n",
      "    \"id\": 1668399,\n",
      "    \"name\": \"Taichung\",\n",
      "    \"cod\": 200\n",
      "}\n"
     ]
    }
   ],
   "source": [
    "import requests\n",
    "import json\n",
    "\n",
    "def get_weather_data(api_key, latitude, longitude):\n",
    "    url = f\"https://api.openweathermap.org/data/2.5/weather?lat={latitude}&lon={longitude}&appid={api_key}\"\n",
    "    response = requests.get(url)\n",
    "    if response.status_code == 200:\n",
    "        return response.json()\n",
    "    else:\n",
    "        print(\"Error:\", response.status_code)\n",
    "        return None\n",
    "\n",
    "api_key = \"b55132e7d0d008aa945b18e4cd2f5a02\"\n",
    "latitude = 24.138504\n",
    "longitude = 120.678434\n",
    "\n",
    "weather_data = get_weather_data(api_key, latitude, longitude)\n",
    "\n",
    "if weather_data:\n",
    "    print(json.dumps(weather_data, indent=4))  # 打印原始的 JSON 数据"
   ]
  }
 ],
 "metadata": {
  "kernelspec": {
   "display_name": "Python 3",
   "language": "python",
   "name": "python3"
  },
  "language_info": {
   "codemirror_mode": {
    "name": "ipython",
    "version": 3
   },
   "file_extension": ".py",
   "mimetype": "text/x-python",
   "name": "python",
   "nbconvert_exporter": "python",
   "pygments_lexer": "ipython3",
   "version": "3.11.5"
  }
 },
 "nbformat": 4,
 "nbformat_minor": 2
}
